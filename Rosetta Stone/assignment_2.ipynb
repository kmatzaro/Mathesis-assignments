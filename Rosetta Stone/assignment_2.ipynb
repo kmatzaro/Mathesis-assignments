{
 "cells": [
  {
   "cell_type": "markdown",
   "metadata": {},
   "source": [
    "### Μαντζαρόπουλος Κώστας\n",
    "\n",
    "# Ε1\n",
    "\n",
    "Αρχικά ας εισάγουμε τις βιβλιοθήκες που θα χρειαστούμε"
   ]
  },
  {
   "cell_type": "code",
   "execution_count": 163,
   "metadata": {},
   "outputs": [],
   "source": [
    "import pandas as pd\n",
    "import seaborn as sns\n",
    "import matplotlib as plt\n",
    "import numpy as np"
   ]
  },
  {
   "cell_type": "code",
   "execution_count": 164,
   "metadata": {},
   "outputs": [],
   "source": [
    "country_scores = pd.read_excel(\"patel-sandefur-human-capital-final-results.xlsx\", sheet_name='Country Scores')"
   ]
  },
  {
   "cell_type": "code",
   "execution_count": 165,
   "metadata": {},
   "outputs": [
    {
     "data": {
      "text/html": [
       "<div>\n",
       "<style scoped>\n",
       "    .dataframe tbody tr th:only-of-type {\n",
       "        vertical-align: middle;\n",
       "    }\n",
       "\n",
       "    .dataframe tbody tr th {\n",
       "        vertical-align: top;\n",
       "    }\n",
       "\n",
       "    .dataframe thead th {\n",
       "        text-align: right;\n",
       "    }\n",
       "</style>\n",
       "<table border=\"1\" class=\"dataframe\">\n",
       "  <thead>\n",
       "    <tr style=\"text-align: right;\">\n",
       "      <th></th>\n",
       "      <th>Country</th>\n",
       "      <th>Country Code</th>\n",
       "      <th>Percent Above Math Benchmark (400 on TIMSS Scale)</th>\n",
       "      <th>Percent Above Reading Benchmark (400 on PIRLS Scale)</th>\n",
       "      <th>Median Math Score (TIMSS Scale, 4th Grade)</th>\n",
       "      <th>Median Reading Score (PIRLS Scale, 4th Grade)</th>\n",
       "    </tr>\n",
       "  </thead>\n",
       "  <tbody>\n",
       "    <tr>\n",
       "      <th>0</th>\n",
       "      <td>U.A.E.</td>\n",
       "      <td>ARE</td>\n",
       "      <td>64.000000</td>\n",
       "      <td>63.982311</td>\n",
       "      <td>437.000000</td>\n",
       "      <td>440.000000</td>\n",
       "    </tr>\n",
       "    <tr>\n",
       "      <th>1</th>\n",
       "      <td>Argentina</td>\n",
       "      <td>ARG</td>\n",
       "      <td>51.000000</td>\n",
       "      <td>66.000000</td>\n",
       "      <td>406.652557</td>\n",
       "      <td>431.443542</td>\n",
       "    </tr>\n",
       "    <tr>\n",
       "      <th>2</th>\n",
       "      <td>Armenia</td>\n",
       "      <td>ARM</td>\n",
       "      <td>71.505402</td>\n",
       "      <td>NaN</td>\n",
       "      <td>454.000000</td>\n",
       "      <td>NaN</td>\n",
       "    </tr>\n",
       "    <tr>\n",
       "      <th>3</th>\n",
       "      <td>Australia</td>\n",
       "      <td>AUS</td>\n",
       "      <td>90.000000</td>\n",
       "      <td>92.932800</td>\n",
       "      <td>520.000000</td>\n",
       "      <td>534.000000</td>\n",
       "    </tr>\n",
       "    <tr>\n",
       "      <th>4</th>\n",
       "      <td>Austria</td>\n",
       "      <td>AUT</td>\n",
       "      <td>95.302193</td>\n",
       "      <td>97.104111</td>\n",
       "      <td>511.000000</td>\n",
       "      <td>533.000000</td>\n",
       "    </tr>\n",
       "  </tbody>\n",
       "</table>\n",
       "</div>"
      ],
      "text/plain": [
       "     Country Country Code  Percent Above Math Benchmark (400 on TIMSS Scale)  \\\n",
       "0     U.A.E.          ARE                                          64.000000   \n",
       "1  Argentina          ARG                                          51.000000   \n",
       "2    Armenia          ARM                                          71.505402   \n",
       "3  Australia          AUS                                          90.000000   \n",
       "4    Austria          AUT                                          95.302193   \n",
       "\n",
       "   Percent Above Reading Benchmark (400 on PIRLS Scale)  \\\n",
       "0                                          63.982311      \n",
       "1                                          66.000000      \n",
       "2                                                NaN      \n",
       "3                                          92.932800      \n",
       "4                                          97.104111      \n",
       "\n",
       "   Median Math Score (TIMSS Scale, 4th Grade)  \\\n",
       "0                                  437.000000   \n",
       "1                                  406.652557   \n",
       "2                                  454.000000   \n",
       "3                                  520.000000   \n",
       "4                                  511.000000   \n",
       "\n",
       "   Median Reading Score (PIRLS Scale, 4th Grade)  \n",
       "0                                     440.000000  \n",
       "1                                     431.443542  \n",
       "2                                            NaN  \n",
       "3                                     534.000000  \n",
       "4                                     533.000000  "
      ]
     },
     "execution_count": 165,
     "metadata": {},
     "output_type": "execute_result"
    }
   ],
   "source": [
    "country_scores.head()"
   ]
  },
  {
   "cell_type": "code",
   "execution_count": 166,
   "metadata": {},
   "outputs": [
    {
     "data": {
      "text/html": [
       "<div>\n",
       "<style scoped>\n",
       "    .dataframe tbody tr th:only-of-type {\n",
       "        vertical-align: middle;\n",
       "    }\n",
       "\n",
       "    .dataframe tbody tr th {\n",
       "        vertical-align: top;\n",
       "    }\n",
       "\n",
       "    .dataframe thead th {\n",
       "        text-align: right;\n",
       "    }\n",
       "</style>\n",
       "<table border=\"1\" class=\"dataframe\">\n",
       "  <thead>\n",
       "    <tr style=\"text-align: right;\">\n",
       "      <th></th>\n",
       "      <th>Country Name</th>\n",
       "      <th>Country Code</th>\n",
       "      <th>Series Name</th>\n",
       "      <th>Series Code</th>\n",
       "      <th>2015 [YR2015]</th>\n",
       "    </tr>\n",
       "  </thead>\n",
       "  <tbody>\n",
       "    <tr>\n",
       "      <th>0</th>\n",
       "      <td>Afghanistan</td>\n",
       "      <td>AFG</td>\n",
       "      <td>GDP per capita, PPP (constant 2011 internation...</td>\n",
       "      <td>NY.GDP.PCAP.PP.KD</td>\n",
       "      <td>1809.016488</td>\n",
       "    </tr>\n",
       "    <tr>\n",
       "      <th>1</th>\n",
       "      <td>Afghanistan</td>\n",
       "      <td>AFG</td>\n",
       "      <td>School enrollment, primary (% net)</td>\n",
       "      <td>SE.PRM.NENR</td>\n",
       "      <td>NaN</td>\n",
       "    </tr>\n",
       "    <tr>\n",
       "      <th>2</th>\n",
       "      <td>Afghanistan</td>\n",
       "      <td>AFG</td>\n",
       "      <td>School enrollment, primary (% gross)</td>\n",
       "      <td>SE.PRM.ENRR</td>\n",
       "      <td>107.225357</td>\n",
       "    </tr>\n",
       "    <tr>\n",
       "      <th>3</th>\n",
       "      <td>Albania</td>\n",
       "      <td>ALB</td>\n",
       "      <td>GDP per capita, PPP (constant 2011 internation...</td>\n",
       "      <td>NY.GDP.PCAP.PP.KD</td>\n",
       "      <td>10971.292517</td>\n",
       "    </tr>\n",
       "    <tr>\n",
       "      <th>4</th>\n",
       "      <td>Albania</td>\n",
       "      <td>ALB</td>\n",
       "      <td>School enrollment, primary (% net)</td>\n",
       "      <td>SE.PRM.NENR</td>\n",
       "      <td>95.199600</td>\n",
       "    </tr>\n",
       "  </tbody>\n",
       "</table>\n",
       "</div>"
      ],
      "text/plain": [
       "  Country Name Country Code  \\\n",
       "0  Afghanistan          AFG   \n",
       "1  Afghanistan          AFG   \n",
       "2  Afghanistan          AFG   \n",
       "3      Albania          ALB   \n",
       "4      Albania          ALB   \n",
       "\n",
       "                                         Series Name        Series Code  \\\n",
       "0  GDP per capita, PPP (constant 2011 internation...  NY.GDP.PCAP.PP.KD   \n",
       "1                 School enrollment, primary (% net)        SE.PRM.NENR   \n",
       "2               School enrollment, primary (% gross)        SE.PRM.ENRR   \n",
       "3  GDP per capita, PPP (constant 2011 internation...  NY.GDP.PCAP.PP.KD   \n",
       "4                 School enrollment, primary (% net)        SE.PRM.NENR   \n",
       "\n",
       "   2015 [YR2015]  \n",
       "0    1809.016488  \n",
       "1            NaN  \n",
       "2     107.225357  \n",
       "3   10971.292517  \n",
       "4      95.199600  "
      ]
     },
     "execution_count": 166,
     "metadata": {},
     "output_type": "execute_result"
    }
   ],
   "source": [
    "wdi = pd.read_excel('WDI_data.xlsx', na_values='..')\n",
    "wdi.head()"
   ]
  },
  {
   "cell_type": "code",
   "execution_count": 167,
   "metadata": {},
   "outputs": [],
   "source": [
    "wdi_GDP = wdi[wdi['Series Code']=='NY.GDP.PCAP.PP.KD']\n",
    "wdi_GDP.set_index('Country Code', inplace=True)"
   ]
  },
  {
   "cell_type": "code",
   "execution_count": 168,
   "metadata": {},
   "outputs": [
    {
     "data": {
      "text/html": [
       "<div>\n",
       "<style scoped>\n",
       "    .dataframe tbody tr th:only-of-type {\n",
       "        vertical-align: middle;\n",
       "    }\n",
       "\n",
       "    .dataframe tbody tr th {\n",
       "        vertical-align: top;\n",
       "    }\n",
       "\n",
       "    .dataframe thead th {\n",
       "        text-align: right;\n",
       "    }\n",
       "</style>\n",
       "<table border=\"1\" class=\"dataframe\">\n",
       "  <thead>\n",
       "    <tr style=\"text-align: right;\">\n",
       "      <th></th>\n",
       "      <th>Country Name</th>\n",
       "      <th>2015 [YR2015]</th>\n",
       "    </tr>\n",
       "    <tr>\n",
       "      <th>Country Code</th>\n",
       "      <th></th>\n",
       "      <th></th>\n",
       "    </tr>\n",
       "  </thead>\n",
       "  <tbody>\n",
       "    <tr>\n",
       "      <th>AFG</th>\n",
       "      <td>Afghanistan</td>\n",
       "      <td>1809.016488</td>\n",
       "    </tr>\n",
       "    <tr>\n",
       "      <th>ALB</th>\n",
       "      <td>Albania</td>\n",
       "      <td>10971.292517</td>\n",
       "    </tr>\n",
       "    <tr>\n",
       "      <th>DZA</th>\n",
       "      <td>Algeria</td>\n",
       "      <td>13724.723853</td>\n",
       "    </tr>\n",
       "    <tr>\n",
       "      <th>ASM</th>\n",
       "      <td>American Samoa</td>\n",
       "      <td>NaN</td>\n",
       "    </tr>\n",
       "    <tr>\n",
       "      <th>AND</th>\n",
       "      <td>Andorra</td>\n",
       "      <td>NaN</td>\n",
       "    </tr>\n",
       "  </tbody>\n",
       "</table>\n",
       "</div>"
      ],
      "text/plain": [
       "                Country Name  2015 [YR2015]\n",
       "Country Code                               \n",
       "AFG              Afghanistan    1809.016488\n",
       "ALB                  Albania   10971.292517\n",
       "DZA                  Algeria   13724.723853\n",
       "ASM           American Samoa            NaN\n",
       "AND                  Andorra            NaN"
      ]
     },
     "execution_count": 168,
     "metadata": {},
     "output_type": "execute_result"
    }
   ],
   "source": [
    "wdi_GDP = wdi_GDP.drop(columns=['Series Name','Series Code'])\n",
    "wdi_GDP.head()"
   ]
  },
  {
   "cell_type": "code",
   "execution_count": 169,
   "metadata": {},
   "outputs": [],
   "source": [
    "wdi_GDP = wdi_GDP.rename(columns={'2015 [YR2015]':'GDP2015'})"
   ]
  },
  {
   "cell_type": "code",
   "execution_count": 170,
   "metadata": {},
   "outputs": [],
   "source": [
    "wdi_GDP['GDP2015'].astype(float);"
   ]
  },
  {
   "cell_type": "code",
   "execution_count": 171,
   "metadata": {},
   "outputs": [
    {
     "data": {
      "text/html": [
       "<div>\n",
       "<style scoped>\n",
       "    .dataframe tbody tr th:only-of-type {\n",
       "        vertical-align: middle;\n",
       "    }\n",
       "\n",
       "    .dataframe tbody tr th {\n",
       "        vertical-align: top;\n",
       "    }\n",
       "\n",
       "    .dataframe thead th {\n",
       "        text-align: right;\n",
       "    }\n",
       "</style>\n",
       "<table border=\"1\" class=\"dataframe\">\n",
       "  <thead>\n",
       "    <tr style=\"text-align: right;\">\n",
       "      <th></th>\n",
       "      <th>Country Name</th>\n",
       "      <th>GDP2015</th>\n",
       "    </tr>\n",
       "    <tr>\n",
       "      <th>Country Code</th>\n",
       "      <th></th>\n",
       "      <th></th>\n",
       "    </tr>\n",
       "  </thead>\n",
       "  <tbody>\n",
       "    <tr>\n",
       "      <th>ABW</th>\n",
       "      <td>Aruba</td>\n",
       "      <td>NaN</td>\n",
       "    </tr>\n",
       "    <tr>\n",
       "      <th>AFG</th>\n",
       "      <td>Afghanistan</td>\n",
       "      <td>1809.016488</td>\n",
       "    </tr>\n",
       "    <tr>\n",
       "      <th>AGO</th>\n",
       "      <td>Angola</td>\n",
       "      <td>6231.067992</td>\n",
       "    </tr>\n",
       "    <tr>\n",
       "      <th>ALB</th>\n",
       "      <td>Albania</td>\n",
       "      <td>10971.292517</td>\n",
       "    </tr>\n",
       "    <tr>\n",
       "      <th>AND</th>\n",
       "      <td>Andorra</td>\n",
       "      <td>NaN</td>\n",
       "    </tr>\n",
       "    <tr>\n",
       "      <th>...</th>\n",
       "      <td>...</td>\n",
       "      <td>...</td>\n",
       "    </tr>\n",
       "    <tr>\n",
       "      <th>XKX</th>\n",
       "      <td>Kosovo</td>\n",
       "      <td>9097.136991</td>\n",
       "    </tr>\n",
       "    <tr>\n",
       "      <th>YEM</th>\n",
       "      <td>Yemen, Rep.</td>\n",
       "      <td>2641.045829</td>\n",
       "    </tr>\n",
       "    <tr>\n",
       "      <th>ZAF</th>\n",
       "      <td>South Africa</td>\n",
       "      <td>12362.583814</td>\n",
       "    </tr>\n",
       "    <tr>\n",
       "      <th>ZMB</th>\n",
       "      <td>Zambia</td>\n",
       "      <td>3627.202041</td>\n",
       "    </tr>\n",
       "    <tr>\n",
       "      <th>ZWE</th>\n",
       "      <td>Zimbabwe</td>\n",
       "      <td>1912.280264</td>\n",
       "    </tr>\n",
       "  </tbody>\n",
       "</table>\n",
       "<p>264 rows × 2 columns</p>\n",
       "</div>"
      ],
      "text/plain": [
       "              Country Name       GDP2015\n",
       "Country Code                            \n",
       "ABW                  Aruba           NaN\n",
       "AFG            Afghanistan   1809.016488\n",
       "AGO                 Angola   6231.067992\n",
       "ALB                Albania  10971.292517\n",
       "AND                Andorra           NaN\n",
       "...                    ...           ...\n",
       "XKX                 Kosovo   9097.136991\n",
       "YEM            Yemen, Rep.   2641.045829\n",
       "ZAF           South Africa  12362.583814\n",
       "ZMB                 Zambia   3627.202041\n",
       "ZWE               Zimbabwe   1912.280264\n",
       "\n",
       "[264 rows x 2 columns]"
      ]
     },
     "execution_count": 171,
     "metadata": {},
     "output_type": "execute_result"
    }
   ],
   "source": [
    "wdi_GDP.sort_index()"
   ]
  },
  {
   "cell_type": "code",
   "execution_count": 172,
   "metadata": {},
   "outputs": [
    {
     "name": "stdout",
     "output_type": "stream",
     "text": [
      "<class 'pandas.core.frame.DataFrame'>\n",
      "RangeIndex: 78 entries, 0 to 77\n",
      "Data columns (total 6 columns):\n",
      " #   Column                                                Non-Null Count  Dtype  \n",
      "---  ------                                                --------------  -----  \n",
      " 0   Country                                               78 non-null     object \n",
      " 1   Country Code                                          78 non-null     object \n",
      " 2   Percent Above Math Benchmark (400 on TIMSS Scale)     70 non-null     float64\n",
      " 3   Percent Above Reading Benchmark (400 on PIRLS Scale)  66 non-null     float64\n",
      " 4   Median Math Score (TIMSS Scale, 4th Grade)            71 non-null     float64\n",
      " 5   Median Reading Score (PIRLS Scale, 4th Grade)         68 non-null     float64\n",
      "dtypes: float64(4), object(2)\n",
      "memory usage: 3.8+ KB\n"
     ]
    }
   ],
   "source": [
    "country_scores.info()"
   ]
  },
  {
   "cell_type": "code",
   "execution_count": 173,
   "metadata": {},
   "outputs": [],
   "source": [
    "country_scores_grades = country_scores.drop(columns=[country_scores.columns[2], country_scores.columns[3]])\n",
    "country_scores_grades = country_scores_grades.rename(columns={country_scores.columns[4]: 'TIMSS', country_scores.columns[5]: 'PIRLS'})"
   ]
  },
  {
   "cell_type": "code",
   "execution_count": 174,
   "metadata": {},
   "outputs": [],
   "source": [
    "country_scores_grades = country_scores_grades.set_index('Country Code')"
   ]
  },
  {
   "cell_type": "code",
   "execution_count": 175,
   "metadata": {},
   "outputs": [
    {
     "data": {
      "text/html": [
       "<div>\n",
       "<style scoped>\n",
       "    .dataframe tbody tr th:only-of-type {\n",
       "        vertical-align: middle;\n",
       "    }\n",
       "\n",
       "    .dataframe tbody tr th {\n",
       "        vertical-align: top;\n",
       "    }\n",
       "\n",
       "    .dataframe thead th {\n",
       "        text-align: right;\n",
       "    }\n",
       "</style>\n",
       "<table border=\"1\" class=\"dataframe\">\n",
       "  <thead>\n",
       "    <tr style=\"text-align: right;\">\n",
       "      <th></th>\n",
       "      <th>Country</th>\n",
       "      <th>TIMSS</th>\n",
       "      <th>PIRLS</th>\n",
       "    </tr>\n",
       "    <tr>\n",
       "      <th>Country Code</th>\n",
       "      <th></th>\n",
       "      <th></th>\n",
       "      <th></th>\n",
       "    </tr>\n",
       "  </thead>\n",
       "  <tbody>\n",
       "    <tr>\n",
       "      <th>ARE</th>\n",
       "      <td>U.A.E.</td>\n",
       "      <td>437.000000</td>\n",
       "      <td>440.000000</td>\n",
       "    </tr>\n",
       "    <tr>\n",
       "      <th>ARG</th>\n",
       "      <td>Argentina</td>\n",
       "      <td>406.652557</td>\n",
       "      <td>431.443542</td>\n",
       "    </tr>\n",
       "    <tr>\n",
       "      <th>ARM</th>\n",
       "      <td>Armenia</td>\n",
       "      <td>454.000000</td>\n",
       "      <td>NaN</td>\n",
       "    </tr>\n",
       "    <tr>\n",
       "      <th>AUS</th>\n",
       "      <td>Australia</td>\n",
       "      <td>520.000000</td>\n",
       "      <td>534.000000</td>\n",
       "    </tr>\n",
       "    <tr>\n",
       "      <th>AUT</th>\n",
       "      <td>Austria</td>\n",
       "      <td>511.000000</td>\n",
       "      <td>533.000000</td>\n",
       "    </tr>\n",
       "    <tr>\n",
       "      <th>...</th>\n",
       "      <td>...</td>\n",
       "      <td>...</td>\n",
       "      <td>...</td>\n",
       "    </tr>\n",
       "    <tr>\n",
       "      <th>TUR</th>\n",
       "      <td>Turkey</td>\n",
       "      <td>477.000000</td>\n",
       "      <td>NaN</td>\n",
       "    </tr>\n",
       "    <tr>\n",
       "      <th>URY</th>\n",
       "      <td>Uruguay</td>\n",
       "      <td>424.912933</td>\n",
       "      <td>450.448608</td>\n",
       "    </tr>\n",
       "    <tr>\n",
       "      <th>USA</th>\n",
       "      <td>United States</td>\n",
       "      <td>544.000000</td>\n",
       "      <td>560.000000</td>\n",
       "    </tr>\n",
       "    <tr>\n",
       "      <th>YEM</th>\n",
       "      <td>Yemen</td>\n",
       "      <td>243.000000</td>\n",
       "      <td>NaN</td>\n",
       "    </tr>\n",
       "    <tr>\n",
       "      <th>ZAF</th>\n",
       "      <td>South Africa</td>\n",
       "      <td>NaN</td>\n",
       "      <td>323.000000</td>\n",
       "    </tr>\n",
       "  </tbody>\n",
       "</table>\n",
       "<p>78 rows × 3 columns</p>\n",
       "</div>"
      ],
      "text/plain": [
       "                    Country       TIMSS       PIRLS\n",
       "Country Code                                       \n",
       "ARE                  U.A.E.  437.000000  440.000000\n",
       "ARG               Argentina  406.652557  431.443542\n",
       "ARM                 Armenia  454.000000         NaN\n",
       "AUS               Australia  520.000000  534.000000\n",
       "AUT                 Austria  511.000000  533.000000\n",
       "...                     ...         ...         ...\n",
       "TUR                  Turkey  477.000000         NaN\n",
       "URY                 Uruguay  424.912933  450.448608\n",
       "USA           United States  544.000000  560.000000\n",
       "YEM                   Yemen  243.000000         NaN\n",
       "ZAF            South Africa         NaN  323.000000\n",
       "\n",
       "[78 rows x 3 columns]"
      ]
     },
     "execution_count": 175,
     "metadata": {},
     "output_type": "execute_result"
    }
   ],
   "source": [
    "country_scores_grades"
   ]
  },
  {
   "cell_type": "code",
   "execution_count": 176,
   "metadata": {},
   "outputs": [
    {
     "data": {
      "text/plain": [
       "Index(['AFG', 'ALB', 'DZA', 'ASM', 'AND', 'AGO', 'ATG', 'ARB', 'ARG', 'ARM',\n",
       "       ...\n",
       "       'UZB', 'VUT', 'VEN', 'VNM', 'VIR', 'PSE', 'WLD', 'YEM', 'ZMB', 'ZWE'],\n",
       "      dtype='object', name='Country Code', length=264)"
      ]
     },
     "execution_count": 176,
     "metadata": {},
     "output_type": "execute_result"
    }
   ],
   "source": [
    "wdi_GDP.index"
   ]
  },
  {
   "cell_type": "code",
   "execution_count": 177,
   "metadata": {},
   "outputs": [],
   "source": [
    "merged = country_scores_grades.merge(wdi_GDP, how='inner', left_index=True, right_index=True)"
   ]
  },
  {
   "cell_type": "code",
   "execution_count": 178,
   "metadata": {},
   "outputs": [
    {
     "data": {
      "text/html": [
       "<div>\n",
       "<style scoped>\n",
       "    .dataframe tbody tr th:only-of-type {\n",
       "        vertical-align: middle;\n",
       "    }\n",
       "\n",
       "    .dataframe tbody tr th {\n",
       "        vertical-align: top;\n",
       "    }\n",
       "\n",
       "    .dataframe thead th {\n",
       "        text-align: right;\n",
       "    }\n",
       "</style>\n",
       "<table border=\"1\" class=\"dataframe\">\n",
       "  <thead>\n",
       "    <tr style=\"text-align: right;\">\n",
       "      <th></th>\n",
       "      <th>Country</th>\n",
       "      <th>TIMSS</th>\n",
       "      <th>PIRLS</th>\n",
       "      <th>GDP2015</th>\n",
       "    </tr>\n",
       "    <tr>\n",
       "      <th>Country Code</th>\n",
       "      <th></th>\n",
       "      <th></th>\n",
       "      <th></th>\n",
       "      <th></th>\n",
       "    </tr>\n",
       "  </thead>\n",
       "  <tbody>\n",
       "    <tr>\n",
       "      <th>ARE</th>\n",
       "      <td>U.A.E.</td>\n",
       "      <td>437.000000</td>\n",
       "      <td>440.000000</td>\n",
       "      <td>65975.375547</td>\n",
       "    </tr>\n",
       "    <tr>\n",
       "      <th>ARG</th>\n",
       "      <td>Argentina</td>\n",
       "      <td>406.652557</td>\n",
       "      <td>431.443542</td>\n",
       "      <td>19101.297392</td>\n",
       "    </tr>\n",
       "    <tr>\n",
       "      <th>ARM</th>\n",
       "      <td>Armenia</td>\n",
       "      <td>454.000000</td>\n",
       "      <td>NaN</td>\n",
       "      <td>8195.933650</td>\n",
       "    </tr>\n",
       "    <tr>\n",
       "      <th>AUS</th>\n",
       "      <td>Australia</td>\n",
       "      <td>520.000000</td>\n",
       "      <td>534.000000</td>\n",
       "      <td>43719.502165</td>\n",
       "    </tr>\n",
       "    <tr>\n",
       "      <th>AUT</th>\n",
       "      <td>Austria</td>\n",
       "      <td>511.000000</td>\n",
       "      <td>533.000000</td>\n",
       "      <td>44353.875214</td>\n",
       "    </tr>\n",
       "  </tbody>\n",
       "</table>\n",
       "</div>"
      ],
      "text/plain": [
       "                Country       TIMSS       PIRLS       GDP2015\n",
       "Country Code                                                 \n",
       "ARE              U.A.E.  437.000000  440.000000  65975.375547\n",
       "ARG           Argentina  406.652557  431.443542  19101.297392\n",
       "ARM             Armenia  454.000000         NaN   8195.933650\n",
       "AUS           Australia  520.000000  534.000000  43719.502165\n",
       "AUT             Austria  511.000000  533.000000  44353.875214"
      ]
     },
     "execution_count": 178,
     "metadata": {},
     "output_type": "execute_result"
    }
   ],
   "source": [
    "merged = merged.drop(columns=['Country Name'])\n",
    "merged.head()"
   ]
  },
  {
   "cell_type": "code",
   "execution_count": 188,
   "metadata": {},
   "outputs": [
    {
     "data": {
      "image/png": "[encoded data removed]",
      "text/plain": [
       "<Figure size 720x576 with 1 Axes>"
      ]
     },
     "metadata": {},
     "output_type": "display_data"
    }
   ],
   "source": [
    "plt.style.use('ggplot');\n",
    "sns.set(rc={'figure.figsize':(10,8)});\n",
    "sns.scatterplot(x= np.log(merged['GDP2015']), y= merged['TIMSS'], color='black');"
   ]
  },
  {
   "cell_type": "code",
   "execution_count": 189,
   "metadata": {},
   "outputs": [
    {
     "data": {
      "image/png": "[encoded data removed]",
      "text/plain": [
       "<Figure size 720x576 with 1 Axes>"
      ]
     },
     "metadata": {},
     "output_type": "display_data"
    }
   ],
   "source": [
    "sns.scatterplot(x= np.log(merged['GDP2015']), y= merged['PIRLS'], color='black');"
   ]
  },
  {
   "cell_type": "code",
   "execution_count": null,
   "metadata": {},
   "outputs": [],
   "source": []
  }
 ],
 "metadata": {
  "interpreter": {
   "hash": "d0b0b453fb6bfe3702942246105628f3f02ed1884a9530755ff542788dbc8584"
  },
  "kernelspec": {
   "display_name": "Python 3.9.5 64-bit",
   "language": "python",
   "name": "python3"
  },
  "language_info": {
   "codemirror_mode": {
    "name": "ipython",
    "version": 3
   },
   "file_extension": ".py",
   "mimetype": "text/x-python",
   "name": "python",
   "nbconvert_exporter": "python",
   "pygments_lexer": "ipython3",
   "version": "3.9.7"
  },
  "orig_nbformat": 4
 },
 "nbformat": 4,
 "nbformat_minor": 2
}
